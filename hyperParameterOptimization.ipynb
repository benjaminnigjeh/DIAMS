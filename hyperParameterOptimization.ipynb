{
  "nbformat": 4,
  "nbformat_minor": 0,
  "metadata": {
    "colab": {
      "provenance": [],
      "authorship_tag": "ABX9TyPI8LWQ5rroB5NjUwQk/mOY",
      "include_colab_link": true
    },
    "kernelspec": {
      "name": "python3",
      "display_name": "Python 3"
    },
    "language_info": {
      "name": "python"
    }
  },
  "cells": [
    {
      "cell_type": "markdown",
      "metadata": {
        "id": "view-in-github",
        "colab_type": "text"
      },
      "source": [
        "<a href=\"https://colab.research.google.com/github/benjaminnigjeh/DIAMS/blob/main/hyperParameterOptimization.ipynb\" target=\"_parent\"><img src=\"https://colab.research.google.com/assets/colab-badge.svg\" alt=\"Open In Colab\"/></a>"
      ]
    },
    {
      "cell_type": "markdown",
      "source": [
        "# Install Keras_Tuner\n",
        "keras_tuner is a library that will be used for optimization of hyperparameters. The library should be installed running pip from the shell."
      ],
      "metadata": {
        "id": "Ibg7emddRGpe"
      }
    },
    {
      "cell_type": "code",
      "source": [
        "!pip install keras_tuner"
      ],
      "metadata": {
        "id": "XG2LSUZbQ-Kj"
      },
      "execution_count": null,
      "outputs": []
    },
    {
      "cell_type": "markdown",
      "source": [
        "# Import libraries and dependencies\n",
        "google colab has already pre-installed versions of numpy, pandas, tensorflow, and sklearn."
      ],
      "metadata": {
        "id": "HcwvcEG-RpNW"
      }
    },
    {
      "cell_type": "code",
      "execution_count": 2,
      "metadata": {
        "id": "iKyUs_SyFHt4"
      },
      "outputs": [],
      "source": [
        "import numpy as np\n",
        "import pandas as pd\n",
        "import tensorflow as tf\n",
        "from sklearn.model_selection import KFold\n",
        "from keras_tuner.tuners import RandomSearch\n",
        "from google.colab import files\n",
        "from keras.layers import Dropout"
      ]
    },
    {
      "cell_type": "markdown",
      "source": [
        "# Import training and test datasets\n",
        "the datasets should be downloaded to a local folder from GitHub repository, and uploaded to colab running environment"
      ],
      "metadata": {
        "id": "OziCnAJZTKsT"
      }
    },
    {
      "cell_type": "code",
      "source": [
        "trainingDataset = files.upload_file('trainingDataset')"
      ],
      "metadata": {
        "id": "JujSfGORSCno"
      },
      "execution_count": null,
      "outputs": []
    },
    {
      "cell_type": "markdown",
      "source": [
        "# Training Dataset wrangling\n",
        "\n",
        "the sample labels are removed and numerical data transformed to numpy array"
      ],
      "metadata": {
        "id": "fON3wTfwUmIz"
      }
    },
    {
      "cell_type": "code",
      "source": [
        "file_path = '/content/trainingDataset'\n",
        "df = pd.read_csv(file_path)\n",
        "Y = df.pop(\"target\")\n",
        "X = np.array(df)\n",
        "y = np.array(Y)"
      ],
      "metadata": {
        "id": "1jBDNSsnT_5L"
      },
      "execution_count": 4,
      "outputs": []
    },
    {
      "cell_type": "markdown",
      "source": [
        "# Helper functions to execute cycles of optimization\n",
        "\n",
        "A model class is built wuth two dense layers which node numbers will be optimized"
      ],
      "metadata": {
        "id": "jUdzbtf7baK3"
      }
    },
    {
      "cell_type": "code",
      "source": [
        "def build_model(hp):\n",
        "    model = tf.keras.models.Sequential()\n",
        "    model.add(tf.keras.layers.Dense(hp.Int(\"input_units_1\", min_value =100, max_value =200, step =5), activation=tf.nn.relu))\n",
        "    model.add(Dropout(0.2))\n",
        "    model.add(tf.keras.layers.Dense(hp.Int(\"input_units_2\", min_value =100, max_value =300, step =5), activation=tf.nn.relu))\n",
        "    model.add(tf.keras.layers.Dense(2, activation=tf.nn.softmax))\n",
        "    model.compile(optimizer='adam',\n",
        "                  loss='sparse_categorical_crossentropy',\n",
        "                  metrics='accuracy')\n",
        "    return model\n",
        "\n",
        "tuner = RandomSearch(\n",
        "    build_model,\n",
        "    objective= \"val_accuracy\",\n",
        "    max_trials= 100,\n",
        "    executions_per_trial=1,\n",
        "    directory= \"logDir\"\n",
        "    )\n",
        "kf = KFold(n_splits=4, shuffle=True, random_state=100)\n"
      ],
      "metadata": {
        "id": "0nW3DzNuUgrW"
      },
      "execution_count": 5,
      "outputs": []
    },
    {
      "cell_type": "markdown",
      "source": [
        "# Optimization execution\n",
        "\n",
        "a \"for\" cycle is executed to run the random search function of keras_tuner"
      ],
      "metadata": {
        "id": "7mej-dzZc-fs"
      }
    },
    {
      "cell_type": "code",
      "source": [
        "for train_index, validation_index in kf.split(X):\n",
        "    X_train, X_validation = X[train_index], X[validation_index]\n",
        "    y_train, y_validation = y[train_index], y[validation_index]\n",
        "    tuner.search(x=X_train,\n",
        "                 y=y_train,\n",
        "                 validation_data=(X_validation, y_validation))"
      ],
      "metadata": {
        "id": "73iE-1vYbNTI"
      },
      "execution_count": null,
      "outputs": []
    }
  ]
}